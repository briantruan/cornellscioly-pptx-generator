{
 "cells": [
  {
   "cell_type": "code",
   "execution_count": null,
   "metadata": {},
   "outputs": [],
   "source": [
    "%pip install pandas\n",
    "%pip install numpy\n",
    "%pip install python-pptx"
   ]
  },
  {
   "cell_type": "code",
   "execution_count": 14,
   "metadata": {},
   "outputs": [],
   "source": [
    "import pandas as pd\n",
    "import numpy as np\n",
    "from pptx import Presentation\n",
    "from pptx.enum.shapes import MSO_SHAPE\n",
    "from pptx.util import Inches\n",
    "from pptx.oxml.ns import nsdecls\n",
    "from pptx.oxml import parse_xml"
   ]
  },
  {
   "cell_type": "code",
   "execution_count": 15,
   "metadata": {},
   "outputs": [],
   "source": [
    "## CONSTANTS\n",
    "PRESENTATION_PATH = \"awards_template.pptx\"\n",
    "DATASET = \"final_data.csv\"\n",
    "\n",
    "COLUMNS_TO_DROP = [\"Place\", \"Total Points\"]\n",
    "\n",
    "# Title slide\n",
    "TITLE = \"Science Olympiad at Cornell Division C\"\n",
    "SUBTITLE = \"Awards Ceremony - DATE\"\n",
    "\n",
    "# Event transition slide\n",
    "EVENT = \"EVENT AWARDS\"\n",
    "\n",
    "# Spirit award winner\n",
    "SPIRIT_AWARD_WINNER = \"SCHOOL NAME\"\n",
    "SPIRIT_AWARD_SUBTITLE = \"Best School Spirit Award Recipient\"\n",
    "\n",
    "# School transition slide\n",
    "SCHOOL = \"SCHOOL AWARDS\""
   ]
  },
  {
   "cell_type": "code",
   "execution_count": 16,
   "metadata": {},
   "outputs": [],
   "source": [
    "presentation = Presentation(PRESENTATION_PATH)\n",
    "slide_layouts = presentation.slide_layouts"
   ]
  },
  {
   "cell_type": "code",
   "execution_count": 17,
   "metadata": {},
   "outputs": [],
   "source": [
    "# Create the title slide\n",
    "title_slide = presentation.slides.add_slide(slide_layouts[0])\n",
    "title_slide_title = title_slide.shapes.title\n",
    "title_slide_title.text = TITLE\n",
    "\n",
    "title_slide_subtitle = title_slide.placeholders[10]\n",
    "title_slide_subtitle.text = SUBTITLE"
   ]
  },
  {
   "cell_type": "code",
   "execution_count": 18,
   "metadata": {},
   "outputs": [],
   "source": [
    "# Create the event slide\n",
    "event_title_slide = presentation.slides.add_slide(slide_layouts[1])\n",
    "event_title_slide_title = event_title_slide.shapes.title\n",
    "event_title_slide_title.text = EVENT"
   ]
  },
  {
   "cell_type": "code",
   "execution_count": 19,
   "metadata": {},
   "outputs": [],
   "source": [
    "# Read in the dataset\n",
    "df = pd.read_csv(DATASET, header=0, index_col=0)\n",
    "df.index.name = None\n",
    "df.columns.name = None\n",
    "\n",
    "df.index = df.index.str.split(' \\(').str[0]\n",
    "\n",
    "# Keep the Place and Total columns only\n",
    "df_school_awards = df[[\"Place\", \"Total Points\"]]\n",
    "\n",
    "# Drop the Place and Total columns\n",
    "df_event_awards = df.drop(columns=COLUMNS_TO_DROP)"
   ]
  },
  {
   "cell_type": "code",
   "execution_count": 20,
   "metadata": {},
   "outputs": [],
   "source": [
    "def create_column_slides(df):\n",
    "    for column in df.columns:\n",
    "        # Sort the dataframe by the column in ascending order\n",
    "        sorted_df = df.sort_values(by=column, ascending=True)\n",
    "        \n",
    "        # Get the top 6 teams\n",
    "        top_teams = sorted_df.head(6)\n",
    "\n",
    "        # Because we can't transition between team names, we need to create a new slide for each, progressively revealing the top teams\n",
    "        for i in range(7):\n",
    "            column_slide = presentation.slides.add_slide(slide_layouts[2])\n",
    "            column_slide_title = column_slide.shapes.title\n",
    "            column_slide_title.text = column\n",
    "            \n",
    "            # Set the placeholders dynamically\n",
    "            for j in range(i):\n",
    "                column_slide.placeholders[15 - j].text = top_teams.index[5 - j]\n",
    "\n",
    "create_column_slides(df_event_awards)"
   ]
  },
  {
   "cell_type": "code",
   "execution_count": 21,
   "metadata": {},
   "outputs": [],
   "source": [
    "# Create the spirit slide\n",
    "spirit_slide_holder = presentation.slides.add_slide(slide_layouts[4])\n",
    "spirit_slide = presentation.slides.add_slide(slide_layouts[4])\n",
    "spirit_slide.placeholders[15].text = SPIRIT_AWARD_WINNER\n",
    "spirit_slide.placeholders[16].text = SPIRIT_AWARD_SUBTITLE"
   ]
  },
  {
   "cell_type": "code",
   "execution_count": 22,
   "metadata": {},
   "outputs": [],
   "source": [
    "# Create the school slide\n",
    "event_title_slide = presentation.slides.add_slide(slide_layouts[1])\n",
    "event_title_slide_title = event_title_slide.shapes.title\n",
    "event_title_slide_title.text = SCHOOL"
   ]
  },
  {
   "cell_type": "code",
   "execution_count": null,
   "metadata": {},
   "outputs": [],
   "source": [
    "def create_school_awards(df, allow_same_school = False):\n",
    "    if not allow_same_school:\n",
    "        # This assumes that the index is formatted as \"C01 - School Name.\" Modify as needed.\n",
    "        df.index = df.index.str.split(' - ').str[1].str.split(',').str[0]\n",
    "        df = df[~df.index.duplicated(keep='first')]\n",
    "\n",
    "    # Because we can't transition between team names, we need to create a new slide for each, progressively revealing the top teams\n",
    "    for i in range(7):\n",
    "        school_slide = presentation.slides.add_slide(slide_layouts[3])\n",
    "        school_slide_title = school_slide.shapes.title\n",
    "        school_slide_title.text = SCHOOL\n",
    "        \n",
    "        # Set the placeholders dynamically\n",
    "        for j in range(i):\n",
    "            school_slide.placeholders[15 - j].text = df.index[5 - j]"
   ]
  },
  {
   "cell_type": "code",
   "execution_count": 24,
   "metadata": {},
   "outputs": [],
   "source": [
    "create_school_awards(df_school_awards)"
   ]
  },
  {
   "cell_type": "code",
   "execution_count": 25,
   "metadata": {},
   "outputs": [],
   "source": [
    "# save pptx\n",
    "presentation.save(PRESENTATION_PATH)"
   ]
  }
 ],
 "metadata": {
  "kernelspec": {
   "display_name": "simmaron",
   "language": "python",
   "name": "python3"
  },
  "language_info": {
   "codemirror_mode": {
    "name": "ipython",
    "version": 3
   },
   "file_extension": ".py",
   "mimetype": "text/x-python",
   "name": "python",
   "nbconvert_exporter": "python",
   "pygments_lexer": "ipython3",
   "version": "3.11.11"
  }
 },
 "nbformat": 4,
 "nbformat_minor": 2
}
