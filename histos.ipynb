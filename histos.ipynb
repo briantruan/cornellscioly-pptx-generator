{
 "cells": [
  {
   "cell_type": "code",
   "execution_count": null,
   "metadata": {},
   "outputs": [],
   "source": [
    "import numpy as np\n",
    "import pandas as pd\n",
    "import seaborn as sns\n",
    "import matplotlib.pyplot as plt\n",
    "from matplotlib.ticker import MaxNLocator"
   ]
  },
  {
   "cell_type": "code",
   "execution_count": null,
   "metadata": {},
   "outputs": [],
   "source": [
    "df = pd.read_csv('2024-divc-raws.csv')\n",
    "df.index.name = None\n",
    "df.columns.name = None"
   ]
  },
  {
   "cell_type": "code",
   "execution_count": null,
   "metadata": {},
   "outputs": [],
   "source": [
    "# Get descriptive statistics for each numeric column\n",
    "desc_stats = df.describe()\n",
    "\n",
    "# Print mean, standard deviation, min, and max for each column\n",
    "for column in df.select_dtypes(include=[np.number]).columns:\n",
    "    mean_val = desc_stats.at['mean', column]\n",
    "    std_val = desc_stats.at['std', column]\n",
    "    min_val = desc_stats.at['min', column]\n",
    "    max_val = desc_stats.at['max', column]\n",
    "    print(f'{column}: \\n    Mean = {mean_val:.2f} \\n    Stdev = {std_val:.2f} \\n    Min = {min_val:.2f} \\n    Max = {max_val:.2f}')"
   ]
  },
  {
   "cell_type": "code",
   "execution_count": null,
   "metadata": {},
   "outputs": [],
   "source": [
    "# Set font properties\n",
    "plt.rcParams.update({\n",
    "    'font.family': 'Avenir',  # Change to desired font family\n",
    "    'font.size': 12          # Change to desired font size\n",
    "})\n",
    "\n",
    "# Function to remove outliers\n",
    "def remove_outliers(data):\n",
    "    q1 = np.percentile(data, 10)\n",
    "    q3 = np.percentile(data, 90)\n",
    "    iqr = q3 - q1\n",
    "    lower_bound = q1 - 1.5 * iqr\n",
    "    upper_bound = q3 + 1.5 * iqr\n",
    "    return data[(data >= lower_bound) & (data <= upper_bound)]\n",
    "\n",
    "# Plot histograms for each column\n",
    "for column in df.select_dtypes(include=[np.number]).columns:\n",
    "    data = df[column].dropna()\n",
    "    data_no_outliers = remove_outliers(data)\n",
    "    \n",
    "    plt.figure(figsize=(10, 5))\n",
    "    ax = sns.histplot(data_no_outliers, kde=False)  # Increase the number of bins\n",
    "    sns.despine()\n",
    "    plt.title(f'Histogram of {column}')\n",
    "    plt.xlabel(column)\n",
    "    plt.ylabel('Count')\n",
    "    ax.yaxis.set_major_locator(MaxNLocator(integer=True))  # Ensure frequency axis has whole numbers\n",
    "    plt.show()"
   ]
  },
  {
   "cell_type": "markdown",
   "metadata": {},
   "source": [
    "## Optional filters for build events with extremely skewed histograms"
   ]
  },
  {
   "cell_type": "code",
   "execution_count": null,
   "metadata": {},
   "outputs": [],
   "source": [
    "# Filter data for \"Bungee Drop\" column with scores ≤ 100\n",
    "column = 'Bungee Drop'\n",
    "data = df[column].dropna()\n",
    "data = data[data <= 100]\n",
    "data_no_outliers = remove_outliers(data)\n",
    "\n",
    "# Plot histogram for the filtered data\n",
    "plt.figure(figsize=(10, 5))\n",
    "ax = sns.histplot(data_no_outliers, kde=False)\n",
    "sns.despine()\n",
    "plt.title(f'Histogram of {column} (≤ 100)')\n",
    "plt.xlabel(column)\n",
    "plt.ylabel('Count')\n",
    "ax.yaxis.set_major_locator(MaxNLocator(integer=True))\n",
    "plt.show()"
   ]
  },
  {
   "cell_type": "code",
   "execution_count": null,
   "metadata": {},
   "outputs": [],
   "source": [
    "# Filter data for \"Electric Vehicle\" column with scores ≤ 100\n",
    "column = 'Electric Vehicle'\n",
    "data = df[column].dropna()\n",
    "data = data[data <= 100]\n",
    "data_no_outliers = remove_outliers(data)\n",
    "\n",
    "# Plot histogram for the filtered data\n",
    "plt.figure(figsize=(10, 5))\n",
    "ax = sns.histplot(data_no_outliers, kde=False)\n",
    "sns.despine()\n",
    "plt.title(f'Histogram of {column} (≤ 100)')\n",
    "plt.xlabel(column)\n",
    "plt.ylabel('Count')\n",
    "ax.yaxis.set_major_locator(MaxNLocator(integer=True))\n",
    "plt.show()"
   ]
  },
  {
   "cell_type": "code",
   "execution_count": null,
   "metadata": {},
   "outputs": [],
   "source": [
    "# Filter data for \"Robot Tour\" column with scores ≤ 1000\n",
    "column = 'Robot Tour'\n",
    "data = df[column].dropna()\n",
    "data = data[data <= 1000]\n",
    "data_no_outliers = remove_outliers(data)\n",
    "\n",
    "# Plot histogram for the filtered data\n",
    "plt.figure(figsize=(10, 6))\n",
    "ax = sns.histplot(data_no_outliers, kde=False, bins = 10)\n",
    "sns.despine()\n",
    "plt.title(f'Histogram of {column} (≤ 1000)')\n",
    "plt.xlabel(column)\n",
    "plt.ylabel('Count')\n",
    "ax.yaxis.set_major_locator(MaxNLocator(integer=True))\n",
    "plt.show()"
   ]
  }
 ],
 "metadata": {
  "kernelspec": {
   "display_name": "simmaron",
   "language": "python",
   "name": "python3"
  },
  "language_info": {
   "codemirror_mode": {
    "name": "ipython",
    "version": 3
   },
   "file_extension": ".py",
   "mimetype": "text/x-python",
   "name": "python",
   "nbconvert_exporter": "python",
   "pygments_lexer": "ipython3",
   "version": "3.11.11"
  }
 },
 "nbformat": 4,
 "nbformat_minor": 2
}
